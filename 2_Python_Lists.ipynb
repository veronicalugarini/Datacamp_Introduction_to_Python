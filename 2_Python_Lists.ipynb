{
  "nbformat": 4,
  "nbformat_minor": 0,
  "metadata": {
    "colab": {
      "name": "2_Python-Lists.ipynb",
      "provenance": [],
      "collapsed_sections": [
        "ngH7nnH-ayD0"
      ],
      "authorship_tag": "ABX9TyPb8wugaxZZ5POLTMT/jGZQ"
    },
    "kernelspec": {
      "name": "python3",
      "display_name": "Python 3"
    }
  },
  "cells": [
    {
      "cell_type": "markdown",
      "metadata": {
        "id": "_hWPkb6jpLrC",
        "colab_type": "text"
      },
      "source": [
        "#**1. Python Lists**"
      ]
    },
    {
      "cell_type": "code",
      "metadata": {
        "id": "2h5otqpcn2pM",
        "colab_type": "code",
        "colab": {
          "base_uri": "https://localhost:8080/",
          "height": 34
        },
        "outputId": "ae867c29-36ae-4933-ac97-48dda723d735"
      },
      "source": [
        "# Creating two types of lists to height of one family\n",
        "\n",
        "# Simple list \n",
        "\n",
        "fam = [\"liz\", 1.73, \"emma\", 1.68, \"mom\", 1.71, \"dad\", 1.89]\n",
        "\n",
        "# printing\n",
        "\n",
        "fam"
      ],
      "execution_count": 21,
      "outputs": [
        {
          "output_type": "execute_result",
          "data": {
            "text/plain": [
              "['liz', 1.73, 'emma', 1.68, 'mom', 1.71, 'dad', 1.89]"
            ]
          },
          "metadata": {
            "tags": []
          },
          "execution_count": 21
        }
      ]
    },
    {
      "cell_type": "code",
      "metadata": {
        "id": "U1518pGzqcmg",
        "colab_type": "code",
        "colab": {
          "base_uri": "https://localhost:8080/",
          "height": 34
        },
        "outputId": "99e03c64-36e2-4e47-bfad-87664c743fe3"
      },
      "source": [
        "# Sublists\n",
        "\n",
        "fam2 = [[\"liz\", 1.73],\n",
        "       [\"emma\", 1.68],\n",
        "       [\"mom\", 1.71],\n",
        "       [\"dad\", 1.89]]\n",
        "       \n",
        "# printing\n",
        "\n",
        "fam2 "
      ],
      "execution_count": 7,
      "outputs": [
        {
          "output_type": "execute_result",
          "data": {
            "text/plain": [
              "[['liz', 1.73], ['emma', 1.68], ['mom', 1.71], ['dad', 1.89]]"
            ]
          },
          "metadata": {
            "tags": []
          },
          "execution_count": 7
        }
      ]
    },
    {
      "cell_type": "markdown",
      "metadata": {
        "id": "ILGAVFVqmmLz",
        "colab_type": "text"
      },
      "source": [
        "**1 - Exercise - Simple lists**"
      ]
    },
    {
      "cell_type": "markdown",
      "metadata": {
        "id": "55IJvxM-TutE",
        "colab_type": "text"
      },
      "source": [
        "**Creating Lists**"
      ]
    },
    {
      "cell_type": "code",
      "metadata": {
        "id": "zElOMiAmWkzn",
        "colab_type": "code",
        "colab": {
          "base_uri": "https://localhost:8080/",
          "height": 34
        },
        "outputId": "105d7a56-43dd-4f97-ad40-cbbf8e7c45e5"
      },
      "source": [
        "# Create a list, areas, that contains the area of the hallway (hall), kitchen (kit), living room (liv), bedroom (bed) and bathroom (bath), in this order. Use the predefined variables.\n",
        "\n",
        "# 1 - area variables (in square meters)\n",
        "\n",
        "hall = 11.25\n",
        "kit = 18.0\n",
        "liv = 20.0\n",
        "bed = 10.75\n",
        "bath = 9.50\n",
        "\n",
        "# 2 - Creating list areas\n",
        "\n",
        "areas = [hall, kit, liv, bed, bath]\n",
        "\n",
        "# 3 - Printing areas\n",
        "\n",
        "print(areas)"
      ],
      "execution_count": 3,
      "outputs": [
        {
          "output_type": "stream",
          "text": [
            "[11.25, 18.0, 20.0, 10.75, 9.5]\n"
          ],
          "name": "stdout"
        }
      ]
    },
    {
      "cell_type": "markdown",
      "metadata": {
        "id": "7RFqkv3GWqf5",
        "colab_type": "text"
      },
      "source": [
        "#**2. Creating lists with different types**"
      ]
    },
    {
      "cell_type": "code",
      "metadata": {
        "id": "5Mcz6OGyWvVq",
        "colab_type": "code",
        "colab": {
          "base_uri": "https://localhost:8080/",
          "height": 34
        },
        "outputId": "e6a38e73-6fb7-403f-cab4-5a5baa011b8d"
      },
      "source": [
        "# Building a list that contains the name of each room as a string and then its area. \n",
        "\n",
        "# area variables (in square meters)\n",
        "hall = 11.25\n",
        "kit = 18.0\n",
        "liv = 20.0\n",
        "bed = 10.75\n",
        "bath = 9.50\n",
        "\n",
        "# Adapt list areas\n",
        "\n",
        "areas = [\"hallway\", hall, \"kitchen\", kit, \"living room\", liv, \"bedroom\", bed, \"bathroom\", bath]\n",
        "\n",
        "# Print areas\n",
        "\n",
        "print(areas)\n",
        "\n"
      ],
      "execution_count": 4,
      "outputs": [
        {
          "output_type": "stream",
          "text": [
            "['hallway', 11.25, 'kitchen', 18.0, 'living room', 20.0, 'bedroom', 10.75, 'bathroom', 9.5]\n"
          ],
          "name": "stdout"
        }
      ]
    },
    {
      "cell_type": "markdown",
      "metadata": {
        "id": "YQ94H1R6mPgw",
        "colab_type": "text"
      },
      "source": [
        "**2. Exercise - List of different types / List of lists**"
      ]
    },
    {
      "cell_type": "markdown",
      "metadata": {
        "id": "a0v21_nWX-kb",
        "colab_type": "text"
      },
      "source": [
        "As a data scientist, you'll often be dealing with a lot of data, and it will make sense to group some of this data.\n",
        "\n",
        "Instead of creating a flat list containing strings and floats, representing the names and areas of the rooms in your house, you can create a list of lists. The script on the right can already give you an idea.\n",
        "\n",
        "Don't get confused here: \"hallway\" is a string, while hall is a variable that represents the float 11.25 you specified earlier"
      ]
    },
    {
      "cell_type": "code",
      "metadata": {
        "id": "Mfe2Q7TWYIFA",
        "colab_type": "code",
        "colab": {
          "base_uri": "https://localhost:8080/",
          "height": 51
        },
        "outputId": "343ad5c2-3468-4ed0-e17a-b4ab2157eace"
      },
      "source": [
        "# Finish the list of lists so that it also contains the bedroom and bathroom data. Make sure you enter these in order\n",
        "\n",
        "house = [[\"hallway\", hall],\n",
        "         [\"kitchen\", kit],\n",
        "         [\"living room\", liv]]\n",
        "\n",
        "# Finishing the list the house information as list of lists\n",
        "\n",
        "house = [[\"hallway\", hall],\n",
        "         [\"kitchen\", kit],\n",
        "         [\"living room\", liv],\n",
        "         [\"bedroom\", bed],\n",
        "         [\"bathroom\", bath]]\n",
        "\n",
        "# Print out house\n",
        "\n",
        "print(house)\n",
        "\n",
        "# Print out the type of house\n",
        "\n",
        "print(type(house))"
      ],
      "execution_count": 6,
      "outputs": [
        {
          "output_type": "stream",
          "text": [
            "[['hallway', 11.25], ['kitchen', 18.0], ['living room', 20.0], ['bedroom', 10.75], ['bathroom', 9.5]]\n",
            "<class 'list'>\n"
          ],
          "name": "stdout"
        }
      ]
    },
    {
      "cell_type": "markdown",
      "metadata": {
        "id": "ngH7nnH-ayD0",
        "colab_type": "text"
      },
      "source": [
        "# **3. Subsetting Lists / Index**\n",
        "\n",
        "The Index starts in Zero (0) = zero index.\n",
        "Negative Index = brings the elements of the end of the list"
      ]
    },
    {
      "cell_type": "code",
      "metadata": {
        "id": "C7ALqQtMa_dZ",
        "colab_type": "code",
        "colab": {
          "base_uri": "https://localhost:8080/",
          "height": 35
        },
        "outputId": "3fe881c9-c8ed-415a-b446-44a0831c481d"
      },
      "source": [
        "# Using List Family to index\n",
        "\n",
        "fam[6]"
      ],
      "execution_count": 19,
      "outputs": [
        {
          "output_type": "execute_result",
          "data": {
            "application/vnd.google.colaboratory.intrinsic+json": {
              "type": "string"
            },
            "text/plain": [
              "'dad'"
            ]
          },
          "metadata": {
            "tags": []
          },
          "execution_count": 19
        }
      ]
    },
    {
      "cell_type": "code",
      "metadata": {
        "id": "jf68ws6Mb-sW",
        "colab_type": "code",
        "colab": {
          "base_uri": "https://localhost:8080/",
          "height": 34
        },
        "outputId": "1cfccd7b-d677-4e37-838e-9abeca16262c"
      },
      "source": [
        "# Negative index\n",
        "\n",
        "fam[-1]"
      ],
      "execution_count": 18,
      "outputs": [
        {
          "output_type": "execute_result",
          "data": {
            "text/plain": [
              "1.89"
            ]
          },
          "metadata": {
            "tags": []
          },
          "execution_count": 18
        }
      ]
    },
    {
      "cell_type": "markdown",
      "metadata": {
        "id": "j0acCav_cbTf",
        "colab_type": "text"
      },
      "source": [
        "#**4. List Slicing**\n",
        "\n",
        "List Slicing = **select multiple elements from a list**, specifing a range (intervalo) using a colon (:)\n",
        "\n",
        "syntax is ... [start : end] \n",
        "\n",
        "**name of the list [start : end]**\n",
        "\n",
        "*   **start** = element/index *included* in the range\n",
        "*   **end** = element/index *not included* in the range\n",
        "*   **Colon (:)** = to define the range"
      ]
    },
    {
      "cell_type": "code",
      "metadata": {
        "id": "koJ6qy7lcOkd",
        "colab_type": "code",
        "colab": {
          "base_uri": "https://localhost:8080/",
          "height": 34
        },
        "outputId": "f70cb007-1206-4c18-e362-1d24f92915f2"
      },
      "source": [
        "# List Slicing to select multiple elements from a list\n",
        "\n",
        "# Using fam\n",
        "\n",
        "fam[1:4]"
      ],
      "execution_count": 25,
      "outputs": [
        {
          "output_type": "execute_result",
          "data": {
            "text/plain": [
              "[1.73, 'emma', 1.68]"
            ]
          },
          "metadata": {
            "tags": []
          },
          "execution_count": 25
        }
      ]
    },
    {
      "cell_type": "markdown",
      "metadata": {
        "id": "7jrOmLXPf__G",
        "colab_type": "text"
      },
      "source": [
        "**Leaving out the start index**\n",
        "\n",
        "Means that is going to slice from index 0\n",
        "\n",
        "name of the list [:8]\n",
        "\n",
        "**Leaving the index where the slice should end**\n",
        "\n",
        "Is telling to Include all the elements up to and including tha last element in the list\n",
        "\n",
        "name of the list [2:]"
      ]
    },
    {
      "cell_type": "code",
      "metadata": {
        "id": "YK9R88irfSZo",
        "colab_type": "code",
        "colab": {
          "base_uri": "https://localhost:8080/",
          "height": 34
        },
        "outputId": "9f639de9-4179-4420-91c3-1aa1be18ad25"
      },
      "source": [
        "# Start from Index zero (0) and stoping in the index 4\n",
        "\n",
        "fam[:4]"
      ],
      "execution_count": 27,
      "outputs": [
        {
          "output_type": "execute_result",
          "data": {
            "text/plain": [
              "['liz', 1.73, 'emma', 1.68]"
            ]
          },
          "metadata": {
            "tags": []
          },
          "execution_count": 27
        }
      ]
    },
    {
      "cell_type": "code",
      "metadata": {
        "id": "z36hmjMChPep",
        "colab_type": "code",
        "colab": {
          "base_uri": "https://localhost:8080/",
          "height": 34
        },
        "outputId": "f024ae85-857f-41d4-ac82-74483db7e2d5"
      },
      "source": [
        "# Starting in one determined element of the list and leaving out the index where the slice should end = included all the elements including the last element\n",
        "\n",
        "fam[:5]"
      ],
      "execution_count": 28,
      "outputs": [
        {
          "output_type": "execute_result",
          "data": {
            "text/plain": [
              "['liz', 1.73, 'emma', 1.68, 'mom']"
            ]
          },
          "metadata": {
            "tags": []
          },
          "execution_count": 28
        }
      ]
    },
    {
      "cell_type": "markdown",
      "metadata": {
        "id": "asQc5J1YmLYv",
        "colab_type": "text"
      },
      "source": [
        "**4.1. Exercise - List Slicing / Subset and conquer**"
      ]
    },
    {
      "cell_type": "code",
      "metadata": {
        "id": "B9ftgiZ5mCC2",
        "colab_type": "code",
        "colab": {}
      },
      "source": [
        "# Create the areas list\n",
        "areas = [\"hallway\", 11.25, \"kitchen\", 18.0, \"living room\", 20.0, \"bedroom\", 10.75, \"bathroom\", 9.50]"
      ],
      "execution_count": 29,
      "outputs": []
    },
    {
      "cell_type": "code",
      "metadata": {
        "id": "tILpjyjVnsiG",
        "colab_type": "code",
        "colab": {
          "base_uri": "https://localhost:8080/",
          "height": 34
        },
        "outputId": "f436cac3-2b70-4e96-f4f7-e8e5145d6dd9"
      },
      "source": [
        "# Print out second element from areas\n",
        "print(areas[1])"
      ],
      "execution_count": 34,
      "outputs": [
        {
          "output_type": "stream",
          "text": [
            "11.25\n"
          ],
          "name": "stdout"
        }
      ]
    },
    {
      "cell_type": "code",
      "metadata": {
        "id": "4eWdKiyZohZG",
        "colab_type": "code",
        "colab": {
          "base_uri": "https://localhost:8080/",
          "height": 34
        },
        "outputId": "19d1da68-6246-4a9e-feb2-094371c87c42"
      },
      "source": [
        "# Print out last element from areas\n",
        "print(areas[-1])"
      ],
      "execution_count": 36,
      "outputs": [
        {
          "output_type": "stream",
          "text": [
            "9.5\n"
          ],
          "name": "stdout"
        }
      ]
    },
    {
      "cell_type": "code",
      "metadata": {
        "id": "FHU1lv6bns-z",
        "colab_type": "code",
        "colab": {
          "base_uri": "https://localhost:8080/",
          "height": 34
        },
        "outputId": "a35edfaf-a57a-41fc-d465-77d38f129d3d"
      },
      "source": [
        "# Print out the area of the living room\n",
        "print(areas[5])"
      ],
      "execution_count": 38,
      "outputs": [
        {
          "output_type": "stream",
          "text": [
            "20.0\n"
          ],
          "name": "stdout"
        }
      ]
    },
    {
      "cell_type": "markdown",
      "metadata": {
        "id": "oDEM-UTOu_1x",
        "colab_type": "text"
      },
      "source": [
        "**4.2. Exercise - Slicing and dicing**"
      ]
    },
    {
      "cell_type": "markdown",
      "metadata": {
        "id": "h-dzeBsGo-hi",
        "colab_type": "text"
      },
      "source": [
        "#**5. Subset and calculate**\n",
        "\n",
        "After extract values from a list, is possible to make calculations\n",
        "\n",
        "where the second and fourth element of a list x are extracted. The strings that result are pasted together using the + operator:\n",
        "\n",
        "Example: \n",
        "\n",
        "*   x = [\"a\", \"b\", \"c\", \"d\"]\n",
        "\n",
        "\n",
        "*   print(x[1] + x[3])"
      ]
    },
    {
      "cell_type": "code",
      "metadata": {
        "id": "FoCiTo0dqG_7",
        "colab_type": "code",
        "colab": {
          "base_uri": "https://localhost:8080/",
          "height": 34
        },
        "outputId": "e14f4e19-7248-434f-a0bd-4dbc001c2623"
      },
      "source": [
        "# Example of list\n",
        "\n",
        "x = [\"a\", \"b\", \"c\", \"d\"]\n",
        "\n",
        "# Printing Calculation\n",
        "\n",
        "print(x[1] + x[3])"
      ],
      "execution_count": 45,
      "outputs": [
        {
          "output_type": "stream",
          "text": [
            "bd\n"
          ],
          "name": "stdout"
        }
      ]
    },
    {
      "cell_type": "markdown",
      "metadata": {
        "id": "VzpczNWksmkz",
        "colab_type": "text"
      },
      "source": [
        "**5. Exercise - Subset and Calculate**\n",
        "\n",
        "Don't forget that the first element is Index ZERO ( 0 )"
      ]
    },
    {
      "cell_type": "code",
      "metadata": {
        "id": "ugGmqgIEs9Eo",
        "colab_type": "code",
        "colab": {}
      },
      "source": [
        "# Create the areas list\n",
        "areas = [\"hallway\", 11.25, \"kitchen\", 18.0, \"living room\", 20.0, \"bedroom\", 10.75, \"bathroom\", 9.50]"
      ],
      "execution_count": 41,
      "outputs": []
    },
    {
      "cell_type": "code",
      "metadata": {
        "id": "WGPLgwVys_gG",
        "colab_type": "code",
        "colab": {}
      },
      "source": [
        "# Sum of kitchen and bedroom area: eat_sleep_area\n",
        "\n",
        "eat_sleep_area = areas[3] + areas[7]"
      ],
      "execution_count": 46,
      "outputs": []
    },
    {
      "cell_type": "code",
      "metadata": {
        "id": "IGZg17FougKl",
        "colab_type": "code",
        "colab": {
          "base_uri": "https://localhost:8080/",
          "height": 34
        },
        "outputId": "baccdc35-6be6-4d54-b73d-fa973d63dc19"
      },
      "source": [
        "# Print the variable eat_sleep_area\n",
        " \n",
        "print(eat_sleep_area)"
      ],
      "execution_count": 47,
      "outputs": [
        {
          "output_type": "stream",
          "text": [
            "28.75\n"
          ],
          "name": "stdout"
        }
      ]
    }
  ]
}