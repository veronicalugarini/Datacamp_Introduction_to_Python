{
  "nbformat": 4,
  "nbformat_minor": 0,
  "metadata": {
    "colab": {
      "name": "1_Python-Basics-Introduction.ipynb",
      "provenance": [],
      "collapsed_sections": [],
      "authorship_tag": "ABX9TyOSmVBZUZ565H5zec0KPbaX"
    },
    "kernelspec": {
      "name": "python3",
      "display_name": "Python 3"
    }
  },
  "cells": [
    {
      "cell_type": "markdown",
      "metadata": {
        "id": "N0Ahx1AxaKuO",
        "colab_type": "text"
      },
      "source": [
        "**Python as a Calculator**\n"
      ]
    },
    {
      "cell_type": "code",
      "metadata": {
        "id": "r3pk-kw8ZNvy",
        "colab_type": "code",
        "colab": {
          "base_uri": "https://localhost:8080/",
          "height": 51
        },
        "outputId": "54ec320e-357a-48ff-98c8-9d03f3e1d697"
      },
      "source": [
        "# Addition, subtraction\n",
        "print(5 + 5)\n",
        "print(5 - 5)"
      ],
      "execution_count": 35,
      "outputs": [
        {
          "output_type": "stream",
          "text": [
            "10\n",
            "0\n"
          ],
          "name": "stdout"
        }
      ]
    },
    {
      "cell_type": "code",
      "metadata": {
        "id": "EwZE3bHyZcM-",
        "colab_type": "code",
        "colab": {
          "base_uri": "https://localhost:8080/",
          "height": 85
        },
        "outputId": "6d8f81c8-8347-4a6c-9012-8c1aaabcf3cc"
      },
      "source": [
        "# Multiplication, division, modulo, and exponentiation\n",
        "print(3 * 5)\n",
        "print(10 / 2)\n",
        "print(18 % 7)\n",
        "print(4 ** 2)"
      ],
      "execution_count": 36,
      "outputs": [
        {
          "output_type": "stream",
          "text": [
            "15\n",
            "5.0\n",
            "4\n",
            "16\n"
          ],
          "name": "stdout"
        }
      ]
    },
    {
      "cell_type": "markdown",
      "metadata": {
        "id": "uRzyH5CjZ1dq",
        "colab_type": "text"
      },
      "source": [
        "**Juros Compostos com Python** = *Suppose you have $100, which you can invest with a 10% return each year. After one year, it's 100×1.1=110 dollars, and after two years it's 100×1.1×1.1=121. Add code to calculate how much money you end up with after 7 years, and print the result.*\n"
      ]
    },
    {
      "cell_type": "code",
      "metadata": {
        "id": "pMY7vvqoW8sJ",
        "colab_type": "code",
        "colab": {
          "base_uri": "https://localhost:8080/",
          "height": 34
        },
        "outputId": "0f076b78-c813-487f-c96b-12bedb83b9d5"
      },
      "source": [
        "# How much is your $100 worth after 7 years?\n",
        "\n",
        "print(100 * (1.1**7))"
      ],
      "execution_count": null,
      "outputs": [
        {
          "output_type": "stream",
          "text": [
            "194.87171000000012\n"
          ],
          "name": "stdout"
        }
      ]
    },
    {
      "cell_type": "markdown",
      "metadata": {
        "id": "Qh08pamQad1b",
        "colab_type": "text"
      },
      "source": [
        "**Variable Assignment / Variable Savings**"
      ]
    },
    {
      "cell_type": "code",
      "metadata": {
        "id": "w4vI7Gg6bADZ",
        "colab_type": "code",
        "colab": {
          "base_uri": "https://localhost:8080/",
          "height": 34
        },
        "outputId": "63c02d80-ee74-4f6e-b318-533d5998197a"
      },
      "source": [
        "# Creating a variable desc\n",
        "\n",
        "desc = \"compound interest\"\n",
        "\n",
        "print(desc)"
      ],
      "execution_count": 39,
      "outputs": [
        {
          "output_type": "stream",
          "text": [
            "compound interest\n"
          ],
          "name": "stdout"
        }
      ]
    },
    {
      "cell_type": "code",
      "metadata": {
        "id": "bCXfNv0Na-M_",
        "colab_type": "code",
        "colab": {
          "base_uri": "https://localhost:8080/",
          "height": 34
        },
        "outputId": "df855b4a-9c70-4d3c-c6b0-e1860d712435"
      },
      "source": [
        "# Saving values on Python\n",
        "\n",
        "height = 1.79\n",
        "\n",
        "weight = 68.7\n",
        "\n",
        "# Printing saved value\n",
        "\n",
        "height\n",
        "\n",
        "weight"
      ],
      "execution_count": 46,
      "outputs": [
        {
          "output_type": "execute_result",
          "data": {
            "text/plain": [
              "68.7"
            ]
          },
          "metadata": {
            "tags": []
          },
          "execution_count": 46
        }
      ]
    },
    {
      "cell_type": "markdown",
      "metadata": {
        "id": "aCrKlbZ1aqIh",
        "colab_type": "text"
      },
      "source": [
        "**Calculations with variables**"
      ]
    },
    {
      "cell_type": "code",
      "metadata": {
        "id": "IwYbhiNQa0Zh",
        "colab_type": "code",
        "colab": {
          "base_uri": "https://localhost:8080/",
          "height": 34
        },
        "outputId": "5554181a-9e65-4cb4-bef4-986b67df1022"
      },
      "source": [
        "# Create a variable savings\n",
        "savings = 100\n",
        "\n",
        "# Create a variable growth_multiplier\n",
        "\n",
        "growth_multiplier = 1.1\n",
        "\n",
        "# Calculate result\n",
        "\n",
        "result = (savings * growth_multiplier ** 7)\n",
        "\n",
        "# Print out result\n",
        "\n",
        "print(result)"
      ],
      "execution_count": 47,
      "outputs": [
        {
          "output_type": "stream",
          "text": [
            "194.87171000000012\n"
          ],
          "name": "stdout"
        }
      ]
    },
    {
      "cell_type": "code",
      "metadata": {
        "id": "WYQT1-_9faAe",
        "colab_type": "code",
        "colab": {
          "base_uri": "https://localhost:8080/",
          "height": 34
        },
        "outputId": "59fa5746-889a-44e7-f3c6-efd385a6bf24"
      },
      "source": [
        "# Calculando IMC\n",
        "\n",
        "weight / height ** 2"
      ],
      "execution_count": 48,
      "outputs": [
        {
          "output_type": "execute_result",
          "data": {
            "text/plain": [
              "21.44127836209856"
            ]
          },
          "metadata": {
            "tags": []
          },
          "execution_count": 48
        }
      ]
    },
    {
      "cell_type": "code",
      "metadata": {
        "id": "LHCFYc_qgWsG",
        "colab_type": "code",
        "colab": {
          "base_uri": "https://localhost:8080/",
          "height": 34
        },
        "outputId": "a30eb5ac-e677-4606-9059-619241c2c064"
      },
      "source": [
        "# Calculando IMC e nomeando\n",
        "\n",
        "bmi = weight / height ** 2\n",
        "\n",
        "print(bmi)"
      ],
      "execution_count": 49,
      "outputs": [
        {
          "output_type": "stream",
          "text": [
            "21.44127836209856\n"
          ],
          "name": "stdout"
        }
      ]
    },
    {
      "cell_type": "markdown",
      "metadata": {
        "id": "QiUHHK_Ea5KY",
        "colab_type": "text"
      },
      "source": [
        "**Type of a value in Python**"
      ]
    },
    {
      "cell_type": "code",
      "metadata": {
        "id": "EApalETFgj3V",
        "colab_type": "code",
        "colab": {
          "base_uri": "https://localhost:8080/",
          "height": 34
        },
        "outputId": "18531af4-29fd-47ca-e6b7-acb2bf2d7726"
      },
      "source": [
        "# Python Types = verificando o tipo de dado\n",
        "\n",
        "type(bmi)"
      ],
      "execution_count": 50,
      "outputs": [
        {
          "output_type": "execute_result",
          "data": {
            "text/plain": [
              "float"
            ]
          },
          "metadata": {
            "tags": []
          },
          "execution_count": 50
        }
      ]
    },
    {
      "cell_type": "code",
      "metadata": {
        "id": "ijYV4FBhb-bV",
        "colab_type": "code",
        "colab": {
          "base_uri": "https://localhost:8080/",
          "height": 34
        },
        "outputId": "8a481bf5-36b3-4fd0-e27f-7eb6404de54e"
      },
      "source": [
        "# Defining and printinf type\n",
        "\n",
        "days_of_week = 5\n",
        "\n",
        "type(days_of_week)"
      ],
      "execution_count": 51,
      "outputs": [
        {
          "output_type": "execute_result",
          "data": {
            "text/plain": [
              "int"
            ]
          },
          "metadata": {
            "tags": []
          },
          "execution_count": 51
        }
      ]
    },
    {
      "cell_type": "code",
      "metadata": {
        "id": "CKnQqnAhkfg0",
        "colab_type": "code",
        "colab": {
          "base_uri": "https://localhost:8080/",
          "height": 34
        },
        "outputId": "30799ed7-39ee-4645-e502-56f1b686c12e"
      },
      "source": [
        "# Funções do +\n",
        "# Soma\n",
        "\n",
        "2 + 3"
      ],
      "execution_count": null,
      "outputs": [
        {
          "output_type": "execute_result",
          "data": {
            "text/plain": [
              "5"
            ]
          },
          "metadata": {
            "tags": []
          },
          "execution_count": 20
        }
      ]
    },
    {
      "cell_type": "code",
      "metadata": {
        "id": "GZ0BX1Iektpm",
        "colab_type": "code",
        "colab": {
          "base_uri": "https://localhost:8080/",
          "height": 35
        },
        "outputId": "1d037e03-80fa-487d-e619-ed6fdd3ba313"
      },
      "source": [
        "# Funções do + \n",
        "# Junta palavras = Cadeias são \"coladas\"\n",
        "\n",
        "'ab' + 'cd'\n",
        "\n",
        "# Different type = Different behavior"
      ],
      "execution_count": null,
      "outputs": [
        {
          "output_type": "execute_result",
          "data": {
            "application/vnd.google.colaboratory.intrinsic+json": {
              "type": "string"
            },
            "text/plain": [
              "'abcd'"
            ]
          },
          "metadata": {
            "tags": []
          },
          "execution_count": 21
        }
      ]
    },
    {
      "cell_type": "code",
      "metadata": {
        "id": "066C0QommmEd",
        "colab_type": "code",
        "colab": {
          "base_uri": "https://localhost:8080/",
          "height": 34
        },
        "outputId": "5b7af673-5f2e-42e0-99a4-9801a640aeda"
      },
      "source": [
        "# Calculations with Variables\n",
        "\n",
        "# Create a variable savings\n",
        "savings = 100\n",
        "\n",
        "# Create a variable growth_multiplier\n",
        "\n",
        "growth_multiplier = 1.1\n",
        "\n",
        "# Calculate result\n",
        "\n",
        "result = (savings * growth_multiplier ** 7)\n",
        "\n",
        "# Print out result\n",
        "\n",
        "print(result)"
      ],
      "execution_count": null,
      "outputs": [
        {
          "output_type": "stream",
          "text": [
            "194.87171000000012\n"
          ],
          "name": "stdout"
        }
      ]
    },
    {
      "cell_type": "code",
      "metadata": {
        "id": "0z_snddJNm5Y",
        "colab_type": "code",
        "colab": {}
      },
      "source": [
        "# Create a variable desc\n",
        "\n",
        "desc = \"compound interest\"\n",
        "\n",
        "# Create a variable profitable\n",
        "\n",
        "profitable = True"
      ],
      "execution_count": 4,
      "outputs": []
    },
    {
      "cell_type": "code",
      "metadata": {
        "id": "4RJ14tOgNvA_",
        "colab_type": "code",
        "colab": {
          "base_uri": "https://localhost:8080/",
          "height": 34
        },
        "outputId": "72d5bf76-92fa-4604-9092-fa1d094b2e49"
      },
      "source": [
        "print(desc)"
      ],
      "execution_count": 2,
      "outputs": [
        {
          "output_type": "stream",
          "text": [
            "compound interest\n"
          ],
          "name": "stdout"
        }
      ]
    },
    {
      "cell_type": "code",
      "metadata": {
        "id": "Hfo-HIIMN1Lh",
        "colab_type": "code",
        "colab": {
          "base_uri": "https://localhost:8080/",
          "height": 34
        },
        "outputId": "486febd0-8cd1-4287-cdbf-1afe5035e66b"
      },
      "source": [
        "print(profitable)"
      ],
      "execution_count": 5,
      "outputs": [
        {
          "output_type": "stream",
          "text": [
            "True\n"
          ],
          "name": "stdout"
        }
      ]
    },
    {
      "cell_type": "code",
      "metadata": {
        "id": "GlQcKIHDOR8k",
        "colab_type": "code",
        "colab": {
          "base_uri": "https://localhost:8080/",
          "height": 34
        },
        "outputId": "45067cab-161e-4cf4-dd27-a92802522d69"
      },
      "source": [
        "# Descobrindo tipo dos dados = To find out the type of a value or a variable use the \"type() function\". Example: type(a)\n",
        "\n",
        "a = 100\n",
        "\n",
        "type(a)"
      ],
      "execution_count": 7,
      "outputs": [
        {
          "output_type": "execute_result",
          "data": {
            "text/plain": [
              "int"
            ]
          },
          "metadata": {
            "tags": []
          },
          "execution_count": 7
        }
      ]
    },
    {
      "cell_type": "markdown",
      "metadata": {
        "id": "j5dyaYKHdWMo",
        "colab_type": "text"
      },
      "source": [
        "**Operations with other types**"
      ]
    },
    {
      "cell_type": "code",
      "metadata": {
        "id": "65c9U-DeP2BV",
        "colab_type": "code",
        "colab": {}
      },
      "source": [
        "# Defining the values\n",
        "\n",
        "savings = 100\n",
        "growth_multiplier = 1.1\n",
        "desc = \"compound interest\""
      ],
      "execution_count": 19,
      "outputs": []
    },
    {
      "cell_type": "code",
      "metadata": {
        "id": "Lynx2SjoQk8Y",
        "colab_type": "code",
        "colab": {}
      },
      "source": [
        "# Calculating the product of savings and growth_multiplier. And Storing the result in year1\n",
        "\n",
        "year1 = 100 * 1.1"
      ],
      "execution_count": 29,
      "outputs": []
    },
    {
      "cell_type": "code",
      "metadata": {
        "id": "TfE7nZQsRhjH",
        "colab_type": "code",
        "colab": {
          "base_uri": "https://localhost:8080/",
          "height": 34
        },
        "outputId": "a44928e1-111b-492d-f9fe-1bac72bbc874"
      },
      "source": [
        "# printing out the type of year1\n",
        "\n",
        "print(type(year1))"
      ],
      "execution_count": 33,
      "outputs": [
        {
          "output_type": "stream",
          "text": [
            "<class 'float'>\n"
          ],
          "name": "stdout"
        }
      ]
    },
    {
      "cell_type": "code",
      "metadata": {
        "id": "16R2O0dkTJ3R",
        "colab_type": "code",
        "colab": {
          "base_uri": "https://localhost:8080/",
          "height": 34
        },
        "outputId": "8d137a88-4cc9-466c-b110-66c331e32551"
      },
      "source": [
        "# Calculating the sum of desc and desc and store the result in a new variable doubledesc. \n",
        "\n",
        "doubledesc = desc + desc\n",
        "\n",
        "# Printing doubledesc\n",
        "\n",
        "print(doubledesc)"
      ],
      "execution_count": 53,
      "outputs": [
        {
          "output_type": "stream",
          "text": [
            "compound interestcompound interest\n"
          ],
          "name": "stdout"
        }
      ]
    },
    {
      "cell_type": "markdown",
      "metadata": {
        "id": "UWAls8JxeITv",
        "colab_type": "text"
      },
      "source": [
        "**Type conversion**"
      ]
    },
    {
      "cell_type": "code",
      "metadata": {
        "id": "peGMB7U6fXtg",
        "colab_type": "code",
        "colab": {}
      },
      "source": [
        "# Converting Values on Python into any type with string(), int(), float() and bool()"
      ],
      "execution_count": null,
      "outputs": []
    },
    {
      "cell_type": "code",
      "metadata": {
        "id": "QHZD5D-IfoRu",
        "colab_type": "code",
        "colab": {
          "base_uri": "https://localhost:8080/",
          "height": 198
        },
        "outputId": "24f5ab85-dde5-4525-c2ed-f92f78492ec1"
      },
      "source": [
        "# Fixing the code\n",
        "\n",
        "# Definition of savings and result\n",
        "savings = 100\n",
        "result = 100 * 1.10 ** 7\n",
        "\n",
        "# Fix the printout bellow:\n",
        "print(\"I started with $\" + savings + \" and now have $\" + result + \". Awesome!\")"
      ],
      "execution_count": 56,
      "outputs": [
        {
          "output_type": "error",
          "ename": "TypeError",
          "evalue": "ignored",
          "traceback": [
            "\u001b[0;31m---------------------------------------------------------------------------\u001b[0m",
            "\u001b[0;31mTypeError\u001b[0m                                 Traceback (most recent call last)",
            "\u001b[0;32m<ipython-input-56-8df9f27b6055>\u001b[0m in \u001b[0;36m<module>\u001b[0;34m()\u001b[0m\n\u001b[1;32m      6\u001b[0m \u001b[0;34m\u001b[0m\u001b[0m\n\u001b[1;32m      7\u001b[0m \u001b[0;31m# Fix the printout bellow:\u001b[0m\u001b[0;34m\u001b[0m\u001b[0;34m\u001b[0m\u001b[0;34m\u001b[0m\u001b[0m\n\u001b[0;32m----> 8\u001b[0;31m \u001b[0mprint\u001b[0m\u001b[0;34m(\u001b[0m\u001b[0;34m\"I started with $\"\u001b[0m \u001b[0;34m+\u001b[0m \u001b[0msavings\u001b[0m \u001b[0;34m+\u001b[0m \u001b[0;34m\" and now have $\"\u001b[0m \u001b[0;34m+\u001b[0m \u001b[0mresult\u001b[0m \u001b[0;34m+\u001b[0m \u001b[0;34m\". Awesome!\"\u001b[0m\u001b[0;34m)\u001b[0m\u001b[0;34m\u001b[0m\u001b[0;34m\u001b[0m\u001b[0m\n\u001b[0m",
            "\u001b[0;31mTypeError\u001b[0m: must be str, not int"
          ]
        }
      ]
    },
    {
      "cell_type": "code",
      "metadata": {
        "id": "rFj0unYShMCH",
        "colab_type": "code",
        "colab": {
          "base_uri": "https://localhost:8080/",
          "height": 34
        },
        "outputId": "41984c41-dfd3-4002-fc94-75ee9a41af06"
      },
      "source": [
        "# Correction of the code with the function str() to convert the variables to strings\n",
        "\n",
        "print(\"I started with $\" + str(savings) + \" and now have $\" + str(result) + \". Awesome!\")"
      ],
      "execution_count": 60,
      "outputs": [
        {
          "output_type": "stream",
          "text": [
            "I started with $100 and now have $194.87171000000012. Awesome!\n"
          ],
          "name": "stdout"
        }
      ]
    },
    {
      "cell_type": "code",
      "metadata": {
        "id": "4p-V11D5hL1w",
        "colab_type": "code",
        "colab": {
          "base_uri": "https://localhost:8080/",
          "height": 34
        },
        "outputId": "1046dde3-8f9b-41ab-c885-7a169b5a8aae"
      },
      "source": [
        "# Definition of pi_string\n",
        "pi_string = \"3.1415926\"\n",
        "\n",
        "# Converting pi_string into float: pi_float\n",
        "\n",
        "pi_float = float(pi_string)\n",
        "\n",
        "# Printing to see if it is right\n",
        "\n",
        "type(pi_float)"
      ],
      "execution_count": 62,
      "outputs": [
        {
          "output_type": "execute_result",
          "data": {
            "text/plain": [
              "float"
            ]
          },
          "metadata": {
            "tags": []
          },
          "execution_count": 62
        }
      ]
    }
  ]
}